{
 "cells": [
  {
   "cell_type": "markdown",
   "id": "2224a982-c1a6-4941-854b-de08819bce96",
   "metadata": {},
   "source": [
    "# Elmamiya/Megueye:21018"
   ]
  },
  {
   "cell_type": "markdown",
   "id": "878605e5-ba13-4a7d-a569-209ad29949e4",
   "metadata": {},
   "source": [
    " ### creé une variable sex  avec naive_bayes"
   ]
  },
  {
   "cell_type": "code",
   "execution_count": 1,
   "id": "6a565126",
   "metadata": {},
   "outputs": [],
   "source": [
    "import pandas as pd"
   ]
  },
  {
   "cell_type": "code",
   "execution_count": 2,
   "id": "9ef703ba",
   "metadata": {},
   "outputs": [],
   "source": [
    "names_mr=pd.read_csv(\"names-mr.csv\",sep=\";\")"
   ]
  },
  {
   "cell_type": "code",
   "execution_count": 3,
   "id": "5ddcf1a4",
   "metadata": {},
   "outputs": [
    {
     "data": {
      "text/html": [
       "<div>\n",
       "<style scoped>\n",
       "    .dataframe tbody tr th:only-of-type {\n",
       "        vertical-align: middle;\n",
       "    }\n",
       "\n",
       "    .dataframe tbody tr th {\n",
       "        vertical-align: top;\n",
       "    }\n",
       "\n",
       "    .dataframe thead th {\n",
       "        text-align: right;\n",
       "    }\n",
       "</style>\n",
       "<table border=\"1\" class=\"dataframe\">\n",
       "  <thead>\n",
       "    <tr style=\"text-align: right;\">\n",
       "      <th></th>\n",
       "      <th>name</th>\n",
       "      <th>sex</th>\n",
       "    </tr>\n",
       "  </thead>\n",
       "  <tbody>\n",
       "    <tr>\n",
       "      <th>0</th>\n",
       "      <td>Fatimetou</td>\n",
       "      <td>F</td>\n",
       "    </tr>\n",
       "    <tr>\n",
       "      <th>1</th>\n",
       "      <td>Mariem</td>\n",
       "      <td>F</td>\n",
       "    </tr>\n",
       "    <tr>\n",
       "      <th>2</th>\n",
       "      <td>Aicha</td>\n",
       "      <td>F</td>\n",
       "    </tr>\n",
       "    <tr>\n",
       "      <th>3</th>\n",
       "      <td>Nanna</td>\n",
       "      <td>F</td>\n",
       "    </tr>\n",
       "    <tr>\n",
       "      <th>4</th>\n",
       "      <td>Vatme</td>\n",
       "      <td>F</td>\n",
       "    </tr>\n",
       "    <tr>\n",
       "      <th>...</th>\n",
       "      <td>...</td>\n",
       "      <td>...</td>\n",
       "    </tr>\n",
       "    <tr>\n",
       "      <th>67877</th>\n",
       "      <td>Maroufa</td>\n",
       "      <td>M</td>\n",
       "    </tr>\n",
       "    <tr>\n",
       "      <th>67878</th>\n",
       "      <td>Muhammed</td>\n",
       "      <td>M</td>\n",
       "    </tr>\n",
       "    <tr>\n",
       "      <th>67879</th>\n",
       "      <td>Alieu</td>\n",
       "      <td>M</td>\n",
       "    </tr>\n",
       "    <tr>\n",
       "      <th>67880</th>\n",
       "      <td>Abdou</td>\n",
       "      <td>M</td>\n",
       "    </tr>\n",
       "    <tr>\n",
       "      <th>67881</th>\n",
       "      <td>Muhammed</td>\n",
       "      <td>M</td>\n",
       "    </tr>\n",
       "  </tbody>\n",
       "</table>\n",
       "<p>67882 rows × 2 columns</p>\n",
       "</div>"
      ],
      "text/plain": [
       "            name sex\n",
       "0      Fatimetou   F\n",
       "1         Mariem   F\n",
       "2          Aicha   F\n",
       "3          Nanna   F\n",
       "4          Vatme   F\n",
       "...          ...  ..\n",
       "67877    Maroufa   M\n",
       "67878   Muhammed   M\n",
       "67879      Alieu   M\n",
       "67880      Abdou   M\n",
       "67881   Muhammed   M\n",
       "\n",
       "[67882 rows x 2 columns]"
      ]
     },
     "execution_count": 3,
     "metadata": {},
     "output_type": "execute_result"
    }
   ],
   "source": [
    "# Renommer les colonnes du dataframe names_mr\n",
    "names_mr.rename(columns={'NOMPL': \"fullname\", 'SEXE': \"sex\"}, inplace=True)\n",
    "\n",
    "# Extraire le prénom de la colonne fullname et créer une nouvelle colonne name\n",
    "names_mr['name'] = names_mr['fullname'].str.split(' ', n=1, expand=True)[0]\n",
    "\n",
    "# Supprimer la colonne fullname\n",
    "names_mr.drop(['fullname'], axis=1, inplace=True)\n",
    "\n",
    "# Réorganiser les colonnes du dataframe pour avoir la colonne 'name' en premier\n",
    "names_mr = names_mr.reindex(columns=['name','sex'])"
   ]
  },
  {
   "cell_type": "code",
   "execution_count": 4,
   "id": "10e11cec",
   "metadata": {},
   "outputs": [],
   "source": [
    "names_dataset=pd.read_csv(\"names_dataset.csv\")\n"
   ]
  },
  {
   "cell_type": "code",
   "execution_count": 5,
   "id": "005e88de",
   "metadata": {},
   "outputs": [],
   "source": [
    "names=pd.concat([names_mr,names_dataset])"
   ]
  },
  {
   "cell_type": "code",
   "execution_count": 6,
   "id": "4b36d107",
   "metadata": {},
   "outputs": [
    {
     "data": {
      "text/html": [
       "<div>\n",
       "<style scoped>\n",
       "    .dataframe tbody tr th:only-of-type {\n",
       "        vertical-align: middle;\n",
       "    }\n",
       "\n",
       "    .dataframe tbody tr th {\n",
       "        vertical-align: top;\n",
       "    }\n",
       "\n",
       "    .dataframe thead th {\n",
       "        text-align: right;\n",
       "    }\n",
       "</style>\n",
       "<table border=\"1\" class=\"dataframe\">\n",
       "  <thead>\n",
       "    <tr style=\"text-align: right;\">\n",
       "      <th></th>\n",
       "      <th>name</th>\n",
       "      <th>sex</th>\n",
       "      <th>index</th>\n",
       "    </tr>\n",
       "  </thead>\n",
       "  <tbody>\n",
       "    <tr>\n",
       "      <th>0</th>\n",
       "      <td>Fatimetou</td>\n",
       "      <td>F</td>\n",
       "      <td>NaN</td>\n",
       "    </tr>\n",
       "    <tr>\n",
       "      <th>1</th>\n",
       "      <td>Mariem</td>\n",
       "      <td>F</td>\n",
       "      <td>NaN</td>\n",
       "    </tr>\n",
       "    <tr>\n",
       "      <th>2</th>\n",
       "      <td>Aicha</td>\n",
       "      <td>F</td>\n",
       "      <td>NaN</td>\n",
       "    </tr>\n",
       "    <tr>\n",
       "      <th>3</th>\n",
       "      <td>Nanna</td>\n",
       "      <td>F</td>\n",
       "      <td>NaN</td>\n",
       "    </tr>\n",
       "    <tr>\n",
       "      <th>4</th>\n",
       "      <td>Vatme</td>\n",
       "      <td>F</td>\n",
       "      <td>NaN</td>\n",
       "    </tr>\n",
       "    <tr>\n",
       "      <th>...</th>\n",
       "      <td>...</td>\n",
       "      <td>...</td>\n",
       "      <td>...</td>\n",
       "    </tr>\n",
       "    <tr>\n",
       "      <th>95020</th>\n",
       "      <td>Zecharya</td>\n",
       "      <td>M</td>\n",
       "      <td>1858664.0</td>\n",
       "    </tr>\n",
       "    <tr>\n",
       "      <th>95021</th>\n",
       "      <td>Ziheng</td>\n",
       "      <td>M</td>\n",
       "      <td>1858676.0</td>\n",
       "    </tr>\n",
       "    <tr>\n",
       "      <th>95022</th>\n",
       "      <td>Ziyu</td>\n",
       "      <td>M</td>\n",
       "      <td>1858679.0</td>\n",
       "    </tr>\n",
       "    <tr>\n",
       "      <th>95023</th>\n",
       "      <td>Zykir</td>\n",
       "      <td>M</td>\n",
       "      <td>1858686.0</td>\n",
       "    </tr>\n",
       "    <tr>\n",
       "      <th>95024</th>\n",
       "      <td>Zyus</td>\n",
       "      <td>M</td>\n",
       "      <td>1858688.0</td>\n",
       "    </tr>\n",
       "  </tbody>\n",
       "</table>\n",
       "<p>162907 rows × 3 columns</p>\n",
       "</div>"
      ],
      "text/plain": [
       "            name sex      index\n",
       "0      Fatimetou   F        NaN\n",
       "1         Mariem   F        NaN\n",
       "2          Aicha   F        NaN\n",
       "3          Nanna   F        NaN\n",
       "4          Vatme   F        NaN\n",
       "...          ...  ..        ...\n",
       "95020   Zecharya   M  1858664.0\n",
       "95021     Ziheng   M  1858676.0\n",
       "95022       Ziyu   M  1858679.0\n",
       "95023      Zykir   M  1858686.0\n",
       "95024       Zyus   M  1858688.0\n",
       "\n",
       "[162907 rows x 3 columns]"
      ]
     },
     "execution_count": 6,
     "metadata": {},
     "output_type": "execute_result"
    }
   ],
   "source": [
    "names"
   ]
  },
  {
   "cell_type": "code",
   "execution_count": 7,
   "id": "eac2bf3d",
   "metadata": {},
   "outputs": [
    {
     "data": {
      "text/plain": [
       "name         0\n",
       "sex          0\n",
       "index    67882\n",
       "dtype: int64"
      ]
     },
     "execution_count": 7,
     "metadata": {},
     "output_type": "execute_result"
    }
   ],
   "source": [
    "names.isnull().sum()"
   ]
  },
  {
   "cell_type": "code",
   "execution_count": 8,
   "id": "9ffa322c",
   "metadata": {},
   "outputs": [
    {
     "data": {
      "text/html": [
       "<div>\n",
       "<style scoped>\n",
       "    .dataframe tbody tr th:only-of-type {\n",
       "        vertical-align: middle;\n",
       "    }\n",
       "\n",
       "    .dataframe tbody tr th {\n",
       "        vertical-align: top;\n",
       "    }\n",
       "\n",
       "    .dataframe thead th {\n",
       "        text-align: right;\n",
       "    }\n",
       "</style>\n",
       "<table border=\"1\" class=\"dataframe\">\n",
       "  <thead>\n",
       "    <tr style=\"text-align: right;\">\n",
       "      <th></th>\n",
       "      <th>name</th>\n",
       "      <th>sex</th>\n",
       "      <th>index</th>\n",
       "    </tr>\n",
       "  </thead>\n",
       "  <tbody>\n",
       "    <tr>\n",
       "      <th>0</th>\n",
       "      <td>Fatimetou</td>\n",
       "      <td>0</td>\n",
       "      <td>NaN</td>\n",
       "    </tr>\n",
       "    <tr>\n",
       "      <th>1</th>\n",
       "      <td>Mariem</td>\n",
       "      <td>0</td>\n",
       "      <td>NaN</td>\n",
       "    </tr>\n",
       "    <tr>\n",
       "      <th>2</th>\n",
       "      <td>Aicha</td>\n",
       "      <td>0</td>\n",
       "      <td>NaN</td>\n",
       "    </tr>\n",
       "    <tr>\n",
       "      <th>3</th>\n",
       "      <td>Nanna</td>\n",
       "      <td>0</td>\n",
       "      <td>NaN</td>\n",
       "    </tr>\n",
       "    <tr>\n",
       "      <th>4</th>\n",
       "      <td>Vatme</td>\n",
       "      <td>0</td>\n",
       "      <td>NaN</td>\n",
       "    </tr>\n",
       "    <tr>\n",
       "      <th>...</th>\n",
       "      <td>...</td>\n",
       "      <td>...</td>\n",
       "      <td>...</td>\n",
       "    </tr>\n",
       "    <tr>\n",
       "      <th>95020</th>\n",
       "      <td>Zecharya</td>\n",
       "      <td>1</td>\n",
       "      <td>1858664.0</td>\n",
       "    </tr>\n",
       "    <tr>\n",
       "      <th>95021</th>\n",
       "      <td>Ziheng</td>\n",
       "      <td>1</td>\n",
       "      <td>1858676.0</td>\n",
       "    </tr>\n",
       "    <tr>\n",
       "      <th>95022</th>\n",
       "      <td>Ziyu</td>\n",
       "      <td>1</td>\n",
       "      <td>1858679.0</td>\n",
       "    </tr>\n",
       "    <tr>\n",
       "      <th>95023</th>\n",
       "      <td>Zykir</td>\n",
       "      <td>1</td>\n",
       "      <td>1858686.0</td>\n",
       "    </tr>\n",
       "    <tr>\n",
       "      <th>95024</th>\n",
       "      <td>Zyus</td>\n",
       "      <td>1</td>\n",
       "      <td>1858688.0</td>\n",
       "    </tr>\n",
       "  </tbody>\n",
       "</table>\n",
       "<p>162907 rows × 3 columns</p>\n",
       "</div>"
      ],
      "text/plain": [
       "            name  sex      index\n",
       "0      Fatimetou    0        NaN\n",
       "1         Mariem    0        NaN\n",
       "2          Aicha    0        NaN\n",
       "3          Nanna    0        NaN\n",
       "4          Vatme    0        NaN\n",
       "...          ...  ...        ...\n",
       "95020   Zecharya    1  1858664.0\n",
       "95021     Ziheng    1  1858676.0\n",
       "95022       Ziyu    1  1858679.0\n",
       "95023      Zykir    1  1858686.0\n",
       "95024       Zyus    1  1858688.0\n",
       "\n",
       "[162907 rows x 3 columns]"
      ]
     },
     "execution_count": 8,
     "metadata": {},
     "output_type": "execute_result"
    }
   ],
   "source": [
    "names['sex'].replace(['F','M'],[0,1],inplace=True)\n",
    "\n",
    "names"
   ]
  },
  {
   "cell_type": "code",
   "execution_count": 9,
   "id": "a87767d4",
   "metadata": {},
   "outputs": [],
   "source": [
    "from sklearn.feature_extraction.text import CountVectorizer\n",
    "from sklearn.feature_extraction import DictVectorizer"
   ]
  },
  {
   "cell_type": "code",
   "execution_count": 10,
   "id": "bd118cb4",
   "metadata": {},
   "outputs": [],
   "source": [
    "Xfeatures = names['name']\n",
    "cv = CountVectorizer()\n",
    "X = cv.fit_transform(Xfeatures)"
   ]
  },
  {
   "cell_type": "code",
   "execution_count": 11,
   "id": "11299e7f",
   "metadata": {},
   "outputs": [],
   "source": [
    "from sklearn.model_selection import train_test_split\n",
    "y = names.sex\n",
    "\n",
    "X_train, X_test, y_train, y_test = train_test_split(X, y, test_size=0.5, random_state=42)"
   ]
  },
  {
   "cell_type": "code",
   "execution_count": 12,
   "id": "63856f15",
   "metadata": {},
   "outputs": [
    {
     "data": {
      "text/plain": [
       "0.7607852284725121"
      ]
     },
     "execution_count": 12,
     "metadata": {},
     "output_type": "execute_result"
    }
   ],
   "source": [
    "from sklearn.naive_bayes import MultinomialNB\n",
    "clf = MultinomialNB()\n",
    "clf.fit(X_train,y_train)\n",
    "clf.score(X_test,y_test)"
   ]
  },
  {
   "cell_type": "code",
   "execution_count": 13,
   "id": "d584a56d",
   "metadata": {},
   "outputs": [
    {
     "data": {
      "text/plain": [
       "array([0], dtype=int64)"
      ]
     },
     "execution_count": 13,
     "metadata": {},
     "output_type": "execute_result"
    }
   ],
   "source": [
    "my_name = [\"mamiya\"]\n",
    "vect = cv.transform(my_name).toarray()\n",
    "clf.predict(vect)"
   ]
  },
  {
   "cell_type": "code",
   "execution_count": 14,
   "id": "51cc855a-8382-495b-8c2a-4e95254986c1",
   "metadata": {},
   "outputs": [],
   "source": [
    "df=pd.read_csv(\"C:/Users/hp/Desktop/datachallange/train_set.csv/train_set.csv\")"
   ]
  },
  {
   "cell_type": "code",
   "execution_count": 15,
   "id": "7198d9af-2c2a-4509-88bf-36ae8715c691",
   "metadata": {},
   "outputs": [
    {
     "data": {
      "text/plain": [
       "(23894, 21)"
      ]
     },
     "execution_count": 15,
     "metadata": {},
     "output_type": "execute_result"
    }
   ],
   "source": [
    "df.shape"
   ]
  },
  {
   "cell_type": "code",
   "execution_count": 16,
   "id": "775f872d-40d0-49cb-957f-268ba3cd2f06",
   "metadata": {},
   "outputs": [
    {
     "name": "stdout",
     "output_type": "stream",
     "text": [
      "Unnamed: 0        23894\n",
      "Nom               23651\n",
      "Serie,x               5\n",
      "GroupeAnonymat       24\n",
      "LieuNaissance       512\n",
      "Centre              137\n",
      "Etablissement       360\n",
      "moyeneGeneral      5256\n",
      "Decision              6\n",
      "Note1               169\n",
      "Note2               181\n",
      "Note3               172\n",
      "Note4               784\n",
      "Note5               716\n",
      "Note6               759\n",
      "Note7               809\n",
      "Note8                59\n",
      "Willaya              15\n",
      "moughataa            48\n",
      "DateNaissance      5925\n",
      "ID                23894\n",
      "dtype: int64\n"
     ]
    }
   ],
   "source": [
    "print(df.nunique())"
   ]
  },
  {
   "cell_type": "code",
   "execution_count": 17,
   "id": "85c174bc-0820-48b8-b2cd-b7e309379706",
   "metadata": {},
   "outputs": [],
   "source": [
    "ar_to_fr = {\n",
    "    'يناير': 'Janvier',\n",
    "    'فبراير': 'Février',\n",
    "    'مارس': 'Mars',\n",
    "    'ابريل': 'Avril',\n",
    "    'مايو': 'Mai',\n",
    "    'يونيو': 'Juin',\n",
    "    'يوليو': 'Juillet',\n",
    "    'اغسطس': 'Août',\n",
    "    'سبتمبر': 'Septembre',\n",
    "    'أكتوبر': 'Octobre',\n",
    "    'نوفمبر': 'Novembre',\n",
    "    'ديسمبر': 'Décembre'\n",
    "}\n",
    "\n",
    "def convert_month(month):\n",
    "    for ar, fr in ar_to_fr.items():\n",
    "        if ar in month:\n",
    "            return month.replace(ar, fr)\n",
    "    return month\n"
   ]
  },
  {
   "cell_type": "code",
   "execution_count": 18,
   "id": "e566277b-7063-40b4-9a65-0412ee7f778f",
   "metadata": {},
   "outputs": [],
   "source": [
    "df['DateNaissance'] = df['DateNaissance'].apply(convert_month)"
   ]
  },
  {
   "cell_type": "code",
   "execution_count": 19,
   "id": "08366458-09e9-4a10-afa8-3775b9e91783",
   "metadata": {},
   "outputs": [
    {
     "data": {
      "text/plain": [
       "0    12 Décembre 1998\n",
       "1    26 Décembre 1991\n",
       "2          8 Mai 1995\n",
       "3        24 avr. 1999\n",
       "4         10 mai 2001\n",
       "Name: DateNaissance, dtype: object"
      ]
     },
     "execution_count": 19,
     "metadata": {},
     "output_type": "execute_result"
    }
   ],
   "source": [
    "df['DateNaissance'].head()"
   ]
  },
  {
   "cell_type": "code",
   "execution_count": 20,
   "id": "33b0c6d6-a564-46f2-a1c2-932dd835931f",
   "metadata": {},
   "outputs": [],
   "source": [
    "# Extraire l'année à partir de la colonne DateNaissance\n",
    "df['annee_naissance'] = df['DateNaissance'].str.extract('(\\d{4})')"
   ]
  },
  {
   "cell_type": "code",
   "execution_count": 21,
   "id": "fc50b0b6-e84b-4d62-9467-2468f0d96dfe",
   "metadata": {},
   "outputs": [],
   "source": [
    "df[\"annee_naissance\"] = df[\"annee_naissance\"].astype(int)\n",
    "annee_actuelle = 2022\n",
    "df['age'] = annee_actuelle - df['annee_naissance']\n"
   ]
  },
  {
   "cell_type": "code",
   "execution_count": 22,
   "id": "37ce22cf-85a7-4a88-9bb8-b3a3dafc1fad",
   "metadata": {},
   "outputs": [
    {
     "data": {
      "text/plain": [
       "0    24\n",
       "1    31\n",
       "2    27\n",
       "3    23\n",
       "4    21\n",
       "Name: age, dtype: int32"
      ]
     },
     "execution_count": 22,
     "metadata": {},
     "output_type": "execute_result"
    }
   ],
   "source": [
    "df['age'].head()"
   ]
  },
  {
   "cell_type": "code",
   "execution_count": 23,
   "id": "de23df54-3155-4d0d-868d-ca247c396e69",
   "metadata": {},
   "outputs": [
    {
     "data": {
      "text/plain": [
       "0    1998\n",
       "1    1991\n",
       "2    1995\n",
       "3    1999\n",
       "4    2001\n",
       "Name: annee_naissance, dtype: int32"
      ]
     },
     "execution_count": 23,
     "metadata": {},
     "output_type": "execute_result"
    }
   ],
   "source": [
    "df['annee_naissance'].head()"
   ]
  },
  {
   "cell_type": "code",
   "execution_count": 24,
   "id": "b6ab6aaa-b1f6-4b0c-8f64-6f2af45a4393",
   "metadata": {},
   "outputs": [],
   "source": [
    "df['prenom'] = df['Nom'].str.split(' ', n=1, expand=True)[0]"
   ]
  },
  {
   "cell_type": "code",
   "execution_count": 25,
   "id": "089602b4-db74-4fb0-8067-cbf3c9ca5230",
   "metadata": {},
   "outputs": [
    {
     "data": {
      "text/plain": [
       "0              el\n",
       "1          mariem\n",
       "2           aiche\n",
       "3           ahmed\n",
       "4          mariam\n",
       "           ...   \n",
       "23889      cheikh\n",
       "23890        ebou\n",
       "23891       nouha\n",
       "23892       oumou\n",
       "23893    aminetou\n",
       "Name: prenom, Length: 23894, dtype: object"
      ]
     },
     "execution_count": 25,
     "metadata": {},
     "output_type": "execute_result"
    }
   ],
   "source": [
    "df['Nom']=df['Nom'].str.split('\\n', n=1, expand=True)\n",
    "# Convertir les prénoms et noms de famille en minuscules\n",
    "df['Nom'].str.lower()\n",
    "df['prenom'].str.lower()"
   ]
  },
  {
   "cell_type": "code",
   "execution_count": 26,
   "id": "a9d6069e-612d-47b1-a62d-ebdcab343a79",
   "metadata": {},
   "outputs": [],
   "source": [
    "T=[]\n",
    "for a in df['prenom']:\n",
    "    L=[]\n",
    "    L.append(a)\n",
    "    my_name=L\n",
    "    vect = cv.transform(my_name).toarray()\n",
    "    l=clf.predict(vect)[0]\n",
    "    T.append(l)"
   ]
  },
  {
   "cell_type": "code",
   "execution_count": 27,
   "id": "0c73f56e-efd4-4c9a-b5af-ce7822804e96",
   "metadata": {},
   "outputs": [],
   "source": [
    "for a in range(len(T)):\n",
    "    if T[a]==0:\n",
    "        T[a]=\"F\"\n",
    "    else:\n",
    "        T[a]=\"M\"\n",
    "    "
   ]
  },
  {
   "cell_type": "code",
   "execution_count": 28,
   "id": "0c36d7d1-a6cc-4d40-9da3-b0fe754992bb",
   "metadata": {},
   "outputs": [],
   "source": [
    "df['sex']=T"
   ]
  },
  {
   "cell_type": "code",
   "execution_count": 29,
   "id": "f571d9cf-849f-4724-b6b8-ab0eb350b5aa",
   "metadata": {},
   "outputs": [
    {
     "data": {
      "text/html": [
       "<div>\n",
       "<style scoped>\n",
       "    .dataframe tbody tr th:only-of-type {\n",
       "        vertical-align: middle;\n",
       "    }\n",
       "\n",
       "    .dataframe tbody tr th {\n",
       "        vertical-align: top;\n",
       "    }\n",
       "\n",
       "    .dataframe thead th {\n",
       "        text-align: right;\n",
       "    }\n",
       "</style>\n",
       "<table border=\"1\" class=\"dataframe\">\n",
       "  <thead>\n",
       "    <tr style=\"text-align: right;\">\n",
       "      <th></th>\n",
       "      <th>Unnamed: 0</th>\n",
       "      <th>Nom</th>\n",
       "      <th>Serie,x</th>\n",
       "      <th>GroupeAnonymat</th>\n",
       "      <th>LieuNaissance</th>\n",
       "      <th>Centre</th>\n",
       "      <th>Etablissement</th>\n",
       "      <th>moyeneGeneral</th>\n",
       "      <th>Decision</th>\n",
       "      <th>Note1</th>\n",
       "      <th>...</th>\n",
       "      <th>Note7</th>\n",
       "      <th>Note8</th>\n",
       "      <th>Willaya</th>\n",
       "      <th>moughataa</th>\n",
       "      <th>DateNaissance</th>\n",
       "      <th>ID</th>\n",
       "      <th>annee_naissance</th>\n",
       "      <th>age</th>\n",
       "      <th>prenom</th>\n",
       "      <th>sex</th>\n",
       "    </tr>\n",
       "  </thead>\n",
       "  <tbody>\n",
       "    <tr>\n",
       "      <th>0</th>\n",
       "      <td>27634</td>\n",
       "      <td>El Ide Brahim M'Hadi</td>\n",
       "      <td>SN</td>\n",
       "      <td>SN09</td>\n",
       "      <td>Bathet meit</td>\n",
       "      <td>Lycée Jedida</td>\n",
       "      <td>Lycée Jedida</td>\n",
       "      <td>4.601562</td>\n",
       "      <td>Ajourné</td>\n",
       "      <td>1.625</td>\n",
       "      <td>...</td>\n",
       "      <td>7.50</td>\n",
       "      <td>18.5</td>\n",
       "      <td>Nouakchott 2 (Ouest)</td>\n",
       "      <td>KSAR</td>\n",
       "      <td>12 Décembre 1998</td>\n",
       "      <td>ID_27634</td>\n",
       "      <td>1998</td>\n",
       "      <td>24</td>\n",
       "      <td>El</td>\n",
       "      <td>M</td>\n",
       "    </tr>\n",
       "    <tr>\n",
       "      <th>1</th>\n",
       "      <td>36311</td>\n",
       "      <td>Mariem Yedaly Afane</td>\n",
       "      <td>LO</td>\n",
       "      <td>LO1</td>\n",
       "      <td>Beir Taouress</td>\n",
       "      <td>Lycée Arafat 2 (A)</td>\n",
       "      <td>Lycée Arafat 2</td>\n",
       "      <td>7.625000</td>\n",
       "      <td>Ajourné</td>\n",
       "      <td>13.000</td>\n",
       "      <td>...</td>\n",
       "      <td>0.75</td>\n",
       "      <td>-1.0</td>\n",
       "      <td>Nouakchott 3 (Sud)</td>\n",
       "      <td>ARAFAT</td>\n",
       "      <td>26 Décembre 1991</td>\n",
       "      <td>ID_36311</td>\n",
       "      <td>1991</td>\n",
       "      <td>31</td>\n",
       "      <td>Mariem</td>\n",
       "      <td>F</td>\n",
       "    </tr>\n",
       "    <tr>\n",
       "      <th>2</th>\n",
       "      <td>21059</td>\n",
       "      <td>Aiche Jiyid Jiyid</td>\n",
       "      <td>LM</td>\n",
       "      <td>LM3</td>\n",
       "      <td>Akjoujt</td>\n",
       "      <td>Lycée Akjoujt</td>\n",
       "      <td>Lycée Akjoujt</td>\n",
       "      <td>6.894531</td>\n",
       "      <td>Ajourné</td>\n",
       "      <td>7.000</td>\n",
       "      <td>...</td>\n",
       "      <td>10.00</td>\n",
       "      <td>17.0</td>\n",
       "      <td>Inchiri</td>\n",
       "      <td>AKJOUJT</td>\n",
       "      <td>8 Mai 1995</td>\n",
       "      <td>ID_21059</td>\n",
       "      <td>1995</td>\n",
       "      <td>27</td>\n",
       "      <td>Aiche</td>\n",
       "      <td>F</td>\n",
       "    </tr>\n",
       "    <tr>\n",
       "      <th>3</th>\n",
       "      <td>24532</td>\n",
       "      <td>Ahmed Abd El Ghader Meissa</td>\n",
       "      <td>SN</td>\n",
       "      <td>SN06</td>\n",
       "      <td>Chelkhet Tiyab</td>\n",
       "      <td>Lycée Toujounine 1</td>\n",
       "      <td>Lycée Toujounine 1</td>\n",
       "      <td>4.859375</td>\n",
       "      <td>Ajourné</td>\n",
       "      <td>1.750</td>\n",
       "      <td>...</td>\n",
       "      <td>7.50</td>\n",
       "      <td>17.0</td>\n",
       "      <td>Nouakchott 1 (Nord)</td>\n",
       "      <td>TOUJOUNINE</td>\n",
       "      <td>24 avr. 1999</td>\n",
       "      <td>ID_24532</td>\n",
       "      <td>1999</td>\n",
       "      <td>23</td>\n",
       "      <td>Ahmed</td>\n",
       "      <td>M</td>\n",
       "    </tr>\n",
       "    <tr>\n",
       "      <th>4</th>\n",
       "      <td>17861</td>\n",
       "      <td>Mariam Abdoulaye Ba</td>\n",
       "      <td>SN</td>\n",
       "      <td>SN03</td>\n",
       "      <td>Aere M'Bar</td>\n",
       "      <td>Lycée Nouadhibou 2</td>\n",
       "      <td>Lycée Wava Nouadhibou</td>\n",
       "      <td>3.548387</td>\n",
       "      <td>Ajourné</td>\n",
       "      <td>4.500</td>\n",
       "      <td>...</td>\n",
       "      <td>2.00</td>\n",
       "      <td>-1.0</td>\n",
       "      <td>Dakhlet NDB</td>\n",
       "      <td>NOUADHIBOU</td>\n",
       "      <td>10 mai 2001</td>\n",
       "      <td>ID_17861</td>\n",
       "      <td>2001</td>\n",
       "      <td>21</td>\n",
       "      <td>Mariam</td>\n",
       "      <td>F</td>\n",
       "    </tr>\n",
       "  </tbody>\n",
       "</table>\n",
       "<p>5 rows × 25 columns</p>\n",
       "</div>"
      ],
      "text/plain": [
       "   Unnamed: 0                         Nom Serie,x GroupeAnonymat  \\\n",
       "0       27634        El Ide Brahim M'Hadi      SN           SN09   \n",
       "1       36311         Mariem Yedaly Afane      LO            LO1   \n",
       "2       21059           Aiche Jiyid Jiyid      LM            LM3   \n",
       "3       24532  Ahmed Abd El Ghader Meissa      SN           SN06   \n",
       "4       17861         Mariam Abdoulaye Ba      SN           SN03   \n",
       "\n",
       "    LieuNaissance              Centre          Etablissement  moyeneGeneral  \\\n",
       "0     Bathet meit        Lycée Jedida           Lycée Jedida       4.601562   \n",
       "1   Beir Taouress  Lycée Arafat 2 (A)         Lycée Arafat 2       7.625000   \n",
       "2         Akjoujt       Lycée Akjoujt          Lycée Akjoujt       6.894531   \n",
       "3  Chelkhet Tiyab  Lycée Toujounine 1     Lycée Toujounine 1       4.859375   \n",
       "4      Aere M'Bar  Lycée Nouadhibou 2  Lycée Wava Nouadhibou       3.548387   \n",
       "\n",
       "  Decision   Note1  ...  Note7  Note8               Willaya   moughataa  \\\n",
       "0  Ajourné   1.625  ...   7.50   18.5  Nouakchott 2 (Ouest)        KSAR   \n",
       "1  Ajourné  13.000  ...   0.75   -1.0    Nouakchott 3 (Sud)      ARAFAT   \n",
       "2  Ajourné   7.000  ...  10.00   17.0               Inchiri     AKJOUJT   \n",
       "3  Ajourné   1.750  ...   7.50   17.0   Nouakchott 1 (Nord)  TOUJOUNINE   \n",
       "4  Ajourné   4.500  ...   2.00   -1.0           Dakhlet NDB  NOUADHIBOU   \n",
       "\n",
       "      DateNaissance        ID  annee_naissance age  prenom sex  \n",
       "0  12 Décembre 1998  ID_27634             1998  24      El   M  \n",
       "1  26 Décembre 1991  ID_36311             1991  31  Mariem   F  \n",
       "2        8 Mai 1995  ID_21059             1995  27   Aiche   F  \n",
       "3      24 avr. 1999  ID_24532             1999  23   Ahmed   M  \n",
       "4       10 mai 2001  ID_17861             2001  21  Mariam   F  \n",
       "\n",
       "[5 rows x 25 columns]"
      ]
     },
     "execution_count": 29,
     "metadata": {},
     "output_type": "execute_result"
    }
   ],
   "source": [
    "df.head()"
   ]
  },
  {
   "cell_type": "code",
   "execution_count": 30,
   "id": "93041c56-269a-4460-b58f-f5327e86ea67",
   "metadata": {},
   "outputs": [],
   "source": [
    "## X = df[['Serie,x', 'GroupeAnonymat', 'LieuNaissance', 'Centre', 'Etablissement', 'Willaya', 'moughataa', 'DateNaissance','sex','age','ID']]"
   ]
  },
  {
   "cell_type": "code",
   "execution_count": 31,
   "id": "cbcd11e6-feeb-4fb3-b291-ad99696d9011",
   "metadata": {},
   "outputs": [
    {
     "data": {
      "text/plain": [
       "Unnamed: 0         0\n",
       "Nom                0\n",
       "Serie,x            0\n",
       "GroupeAnonymat     0\n",
       "LieuNaissance      0\n",
       "Centre             0\n",
       "Etablissement      0\n",
       "moyeneGeneral      0\n",
       "Decision           0\n",
       "Note1              0\n",
       "Note2              0\n",
       "Note3              0\n",
       "Note4              0\n",
       "Note5              0\n",
       "Note6              0\n",
       "Note7              0\n",
       "Note8              0\n",
       "Willaya            0\n",
       "moughataa          0\n",
       "DateNaissance      0\n",
       "ID                 0\n",
       "annee_naissance    0\n",
       "age                0\n",
       "prenom             0\n",
       "sex                0\n",
       "dtype: int64"
      ]
     },
     "execution_count": 31,
     "metadata": {},
     "output_type": "execute_result"
    }
   ],
   "source": [
    "df.isnull().sum()"
   ]
  },
  {
   "cell_type": "code",
   "execution_count": 32,
   "id": "a815ae8b-8894-4fae-a62c-73426ed3c6c2",
   "metadata": {},
   "outputs": [],
   "source": [
    "\n",
    "# Obtenir les différentes modalités de la colonne \"x\"\n",
    "modalites = df['Serie,x'].unique()"
   ]
  },
  {
   "cell_type": "code",
   "execution_count": 33,
   "id": "6b7e58d4-1483-4a4e-9944-1484d8a07cf1",
   "metadata": {},
   "outputs": [
    {
     "data": {
      "text/plain": [
       "array(['SN', 'LO', 'LM', 'M', 'TM'], dtype=object)"
      ]
     },
     "execution_count": 33,
     "metadata": {},
     "output_type": "execute_result"
    }
   ],
   "source": [
    "modalites"
   ]
  },
  {
   "cell_type": "code",
   "execution_count": 34,
   "id": "3e207c3b-00fe-4e03-ab9b-e4e271dd25de",
   "metadata": {},
   "outputs": [],
   "source": [
    "import seaborn as sns"
   ]
  },
  {
   "cell_type": "code",
   "execution_count": 35,
   "id": "ea85c9f4-44fb-4357-8563-8cb7f56652d4",
   "metadata": {},
   "outputs": [
    {
     "data": {
      "image/png": "[encoded data removed]",
      "text/plain": [
       "<Figure size 640x480 with 1 Axes>"
      ]
     },
     "metadata": {},
     "output_type": "display_data"
    }
   ],
   "source": [
    "#Checking The Age Column\n",
    "import matplotlib.pyplot as plt\n",
    "sns.countplot(x=df['age'], palette='flare')\n",
    "plt.show()"
   ]
  },
  {
   "cell_type": "code",
   "execution_count": 36,
   "id": "756671ea-d14d-41be-8209-4af0e88361d8",
   "metadata": {},
   "outputs": [
    {
     "data": {
      "image/png": "[encoded data removed]",
      "text/plain": [
       "<Figure size 1700x1500 with 2 Axes>"
      ]
     },
     "metadata": {},
     "output_type": "display_data"
    }
   ],
   "source": [
    "#Looking For A Correlation\n",
    "import numpy as np\n",
    "import seaborn as sns\n",
    "import matplotlib.pyplot as plt\n",
    "plt.figure(figsize=(17, 15))\n",
    "corr_mask = np.triu(df.corr())\n",
    "h_map = sns.heatmap(df.corr(), mask=corr_mask, annot=True, cmap='Blues')\n",
    "plt.yticks(rotation=360)\n",
    "plt.xticks(rotation=90)\n",
    "plt.show()"
   ]
  },
  {
   "cell_type": "code",
   "execution_count": 37,
   "id": "bcecb71d-5444-4f51-9fa9-623091666996",
   "metadata": {},
   "outputs": [
    {
     "data": {
      "image/png": "[encoded data removed]",
      "text/plain": [
       "<Figure size 640x480 with 1 Axes>"
      ]
     },
     "metadata": {},
     "output_type": "display_data"
    }
   ],
   "source": [
    "ax = sns.countplot(x='Serie,x', data=df, order=['LM', 'SN', 'LO','M','TM'])\n",
    "for p in ax.patches:\n",
    "    ax.annotate('{:.2f}%'.format((p.get_height() * 100) / len(df)), (p.get_x() + 0.24, p.get_height() + 2))\n",
    "plt.show()"
   ]
  },
  {
   "cell_type": "code",
   "execution_count": 38,
   "id": "707dde9a-7843-4916-a05e-332716973a5c",
   "metadata": {},
   "outputs": [
    {
     "data": {
      "image/png": "[encoded data removed]",
      "text/plain": [
       "<Figure size 1000x1000 with 2 Axes>"
      ]
     },
     "metadata": {},
     "output_type": "display_data"
    }
   ],
   "source": [
    "fig, axarr  = plt.subplots(2,figsize=(10,10))\n",
    "sns.countplot(x='sex', data=df, order=['M','F'], ax=axarr[0])\n",
    "sns.countplot(x='sex', hue='Serie,x', data=df, order=['M', 'F'],hue_order = ['LM', 'SN', 'LO','M','TM'], ax=axarr[1])\n",
    "plt.show()"
   ]
  },
  {
   "cell_type": "code",
   "execution_count": 39,
   "id": "9ee37092-78cd-4337-b20e-bf51f03076e9",
   "metadata": {},
   "outputs": [
    {
     "data": {
      "text/html": [
       "<div>\n",
       "<style scoped>\n",
       "    .dataframe tbody tr th:only-of-type {\n",
       "        vertical-align: middle;\n",
       "    }\n",
       "\n",
       "    .dataframe tbody tr th {\n",
       "        vertical-align: top;\n",
       "    }\n",
       "\n",
       "    .dataframe thead th {\n",
       "        text-align: right;\n",
       "    }\n",
       "</style>\n",
       "<table border=\"1\" class=\"dataframe\">\n",
       "  <thead>\n",
       "    <tr style=\"text-align: right;\">\n",
       "      <th></th>\n",
       "      <th>Unnamed: 0</th>\n",
       "      <th>Nom</th>\n",
       "      <th>Serie,x</th>\n",
       "      <th>GroupeAnonymat</th>\n",
       "      <th>LieuNaissance</th>\n",
       "      <th>Centre</th>\n",
       "      <th>Etablissement</th>\n",
       "      <th>moyeneGeneral</th>\n",
       "      <th>Decision</th>\n",
       "      <th>Note1</th>\n",
       "      <th>...</th>\n",
       "      <th>Note7</th>\n",
       "      <th>Note8</th>\n",
       "      <th>Willaya</th>\n",
       "      <th>moughataa</th>\n",
       "      <th>DateNaissance</th>\n",
       "      <th>ID</th>\n",
       "      <th>annee_naissance</th>\n",
       "      <th>age</th>\n",
       "      <th>prenom</th>\n",
       "      <th>sex</th>\n",
       "    </tr>\n",
       "  </thead>\n",
       "  <tbody>\n",
       "    <tr>\n",
       "      <th>0</th>\n",
       "      <td>27634</td>\n",
       "      <td>El Ide Brahim M'Hadi</td>\n",
       "      <td>SN</td>\n",
       "      <td>SN09</td>\n",
       "      <td>Bathet meit</td>\n",
       "      <td>Lycée Jedida</td>\n",
       "      <td>Lycée Jedida</td>\n",
       "      <td>4.601562</td>\n",
       "      <td>Ajourné</td>\n",
       "      <td>1.625</td>\n",
       "      <td>...</td>\n",
       "      <td>7.50</td>\n",
       "      <td>18.5</td>\n",
       "      <td>Nouakchott 2 (Ouest)</td>\n",
       "      <td>KSAR</td>\n",
       "      <td>1998</td>\n",
       "      <td>ID_27634</td>\n",
       "      <td>1998</td>\n",
       "      <td>24</td>\n",
       "      <td>El</td>\n",
       "      <td>M</td>\n",
       "    </tr>\n",
       "    <tr>\n",
       "      <th>1</th>\n",
       "      <td>36311</td>\n",
       "      <td>Mariem Yedaly Afane</td>\n",
       "      <td>LO</td>\n",
       "      <td>LO1</td>\n",
       "      <td>Beir Taouress</td>\n",
       "      <td>Lycée Arafat 2 (A)</td>\n",
       "      <td>Lycée Arafat 2</td>\n",
       "      <td>7.625000</td>\n",
       "      <td>Ajourné</td>\n",
       "      <td>13.000</td>\n",
       "      <td>...</td>\n",
       "      <td>0.75</td>\n",
       "      <td>-1.0</td>\n",
       "      <td>Nouakchott 3 (Sud)</td>\n",
       "      <td>ARAFAT</td>\n",
       "      <td>1991</td>\n",
       "      <td>ID_36311</td>\n",
       "      <td>1991</td>\n",
       "      <td>31</td>\n",
       "      <td>Mariem</td>\n",
       "      <td>F</td>\n",
       "    </tr>\n",
       "    <tr>\n",
       "      <th>2</th>\n",
       "      <td>21059</td>\n",
       "      <td>Aiche Jiyid Jiyid</td>\n",
       "      <td>LM</td>\n",
       "      <td>LM3</td>\n",
       "      <td>Akjoujt</td>\n",
       "      <td>Lycée Akjoujt</td>\n",
       "      <td>Lycée Akjoujt</td>\n",
       "      <td>6.894531</td>\n",
       "      <td>Ajourné</td>\n",
       "      <td>7.000</td>\n",
       "      <td>...</td>\n",
       "      <td>10.00</td>\n",
       "      <td>17.0</td>\n",
       "      <td>Inchiri</td>\n",
       "      <td>AKJOUJT</td>\n",
       "      <td>1995</td>\n",
       "      <td>ID_21059</td>\n",
       "      <td>1995</td>\n",
       "      <td>27</td>\n",
       "      <td>Aiche</td>\n",
       "      <td>F</td>\n",
       "    </tr>\n",
       "    <tr>\n",
       "      <th>3</th>\n",
       "      <td>24532</td>\n",
       "      <td>Ahmed Abd El Ghader Meissa</td>\n",
       "      <td>SN</td>\n",
       "      <td>SN06</td>\n",
       "      <td>Chelkhet Tiyab</td>\n",
       "      <td>Lycée Toujounine 1</td>\n",
       "      <td>Lycée Toujounine 1</td>\n",
       "      <td>4.859375</td>\n",
       "      <td>Ajourné</td>\n",
       "      <td>1.750</td>\n",
       "      <td>...</td>\n",
       "      <td>7.50</td>\n",
       "      <td>17.0</td>\n",
       "      <td>Nouakchott 1 (Nord)</td>\n",
       "      <td>TOUJOUNINE</td>\n",
       "      <td>1999</td>\n",
       "      <td>ID_24532</td>\n",
       "      <td>1999</td>\n",
       "      <td>23</td>\n",
       "      <td>Ahmed</td>\n",
       "      <td>M</td>\n",
       "    </tr>\n",
       "    <tr>\n",
       "      <th>4</th>\n",
       "      <td>17861</td>\n",
       "      <td>Mariam Abdoulaye Ba</td>\n",
       "      <td>SN</td>\n",
       "      <td>SN03</td>\n",
       "      <td>Aere M'Bar</td>\n",
       "      <td>Lycée Nouadhibou 2</td>\n",
       "      <td>Lycée Wava Nouadhibou</td>\n",
       "      <td>3.548387</td>\n",
       "      <td>Ajourné</td>\n",
       "      <td>4.500</td>\n",
       "      <td>...</td>\n",
       "      <td>2.00</td>\n",
       "      <td>-1.0</td>\n",
       "      <td>Dakhlet NDB</td>\n",
       "      <td>NOUADHIBOU</td>\n",
       "      <td>2001</td>\n",
       "      <td>ID_17861</td>\n",
       "      <td>2001</td>\n",
       "      <td>21</td>\n",
       "      <td>Mariam</td>\n",
       "      <td>F</td>\n",
       "    </tr>\n",
       "  </tbody>\n",
       "</table>\n",
       "<p>5 rows × 25 columns</p>\n",
       "</div>"
      ],
      "text/plain": [
       "   Unnamed: 0                         Nom Serie,x GroupeAnonymat  \\\n",
       "0       27634        El Ide Brahim M'Hadi      SN           SN09   \n",
       "1       36311         Mariem Yedaly Afane      LO            LO1   \n",
       "2       21059           Aiche Jiyid Jiyid      LM            LM3   \n",
       "3       24532  Ahmed Abd El Ghader Meissa      SN           SN06   \n",
       "4       17861         Mariam Abdoulaye Ba      SN           SN03   \n",
       "\n",
       "    LieuNaissance              Centre          Etablissement  moyeneGeneral  \\\n",
       "0     Bathet meit        Lycée Jedida           Lycée Jedida       4.601562   \n",
       "1   Beir Taouress  Lycée Arafat 2 (A)         Lycée Arafat 2       7.625000   \n",
       "2         Akjoujt       Lycée Akjoujt          Lycée Akjoujt       6.894531   \n",
       "3  Chelkhet Tiyab  Lycée Toujounine 1     Lycée Toujounine 1       4.859375   \n",
       "4      Aere M'Bar  Lycée Nouadhibou 2  Lycée Wava Nouadhibou       3.548387   \n",
       "\n",
       "  Decision   Note1  ...  Note7  Note8               Willaya   moughataa  \\\n",
       "0  Ajourné   1.625  ...   7.50   18.5  Nouakchott 2 (Ouest)        KSAR   \n",
       "1  Ajourné  13.000  ...   0.75   -1.0    Nouakchott 3 (Sud)      ARAFAT   \n",
       "2  Ajourné   7.000  ...  10.00   17.0               Inchiri     AKJOUJT   \n",
       "3  Ajourné   1.750  ...   7.50   17.0   Nouakchott 1 (Nord)  TOUJOUNINE   \n",
       "4  Ajourné   4.500  ...   2.00   -1.0           Dakhlet NDB  NOUADHIBOU   \n",
       "\n",
       "   DateNaissance        ID  annee_naissance age  prenom sex  \n",
       "0           1998  ID_27634             1998  24      El   M  \n",
       "1           1991  ID_36311             1991  31  Mariem   F  \n",
       "2           1995  ID_21059             1995  27   Aiche   F  \n",
       "3           1999  ID_24532             1999  23   Ahmed   M  \n",
       "4           2001  ID_17861             2001  21  Mariam   F  \n",
       "\n",
       "[5 rows x 25 columns]"
      ]
     },
     "execution_count": 39,
     "metadata": {},
     "output_type": "execute_result"
    }
   ],
   "source": [
    "df['DateNaissance'] = df['DateNaissance'].apply(lambda x: x.split(' ')[-1])\n",
    "df.head()"
   ]
  },
  {
   "cell_type": "code",
   "execution_count": 40,
   "id": "506eb730-3a15-4fb2-b959-b04ddebcb484",
   "metadata": {},
   "outputs": [],
   "source": [
    "test_data=pd.read_csv(\"C:/Users/hp/Downloads/test_set.csv\")"
   ]
  },
  {
   "cell_type": "code",
   "execution_count": 41,
   "id": "0fa711ad-5e26-4fe0-ab43-de1cbe95b4cc",
   "metadata": {},
   "outputs": [
    {
     "data": {
      "text/html": [
       "<div>\n",
       "<style scoped>\n",
       "    .dataframe tbody tr th:only-of-type {\n",
       "        vertical-align: middle;\n",
       "    }\n",
       "\n",
       "    .dataframe tbody tr th {\n",
       "        vertical-align: top;\n",
       "    }\n",
       "\n",
       "    .dataframe thead th {\n",
       "        text-align: right;\n",
       "    }\n",
       "</style>\n",
       "<table border=\"1\" class=\"dataframe\">\n",
       "  <thead>\n",
       "    <tr style=\"text-align: right;\">\n",
       "      <th></th>\n",
       "      <th>Unnamed: 0</th>\n",
       "      <th>Nom</th>\n",
       "      <th>Serie,x</th>\n",
       "      <th>GroupeAnonymat</th>\n",
       "      <th>LieuNaissance</th>\n",
       "      <th>Centre</th>\n",
       "      <th>Etablissement</th>\n",
       "      <th>Willaya</th>\n",
       "      <th>moughataa</th>\n",
       "      <th>DateNaissance</th>\n",
       "      <th>ID</th>\n",
       "      <th>prediction</th>\n",
       "    </tr>\n",
       "  </thead>\n",
       "  <tbody>\n",
       "    <tr>\n",
       "      <th>0</th>\n",
       "      <td>6</td>\n",
       "      <td>Mohamed Hama Ahmed Lely</td>\n",
       "      <td>SN</td>\n",
       "      <td>SN09</td>\n",
       "      <td>Vassala</td>\n",
       "      <td>Lycée Vassala</td>\n",
       "      <td>Lycée Vassala</td>\n",
       "      <td>Hod Charghy</td>\n",
       "      <td>BASSEKNOU</td>\n",
       "      <td>15 يوليو 2001</td>\n",
       "      <td>ID_6</td>\n",
       "      <td>NaN</td>\n",
       "    </tr>\n",
       "    <tr>\n",
       "      <th>1</th>\n",
       "      <td>15</td>\n",
       "      <td>Fatimatou Mohamed Sid Abbe</td>\n",
       "      <td>SN</td>\n",
       "      <td>SN09</td>\n",
       "      <td>Vassala</td>\n",
       "      <td>Lycée Vassala</td>\n",
       "      <td>Lycée Vassala</td>\n",
       "      <td>Hod Charghy</td>\n",
       "      <td>BASSEKNOU</td>\n",
       "      <td>12 août 1999</td>\n",
       "      <td>ID_15</td>\n",
       "      <td>NaN</td>\n",
       "    </tr>\n",
       "    <tr>\n",
       "      <th>2</th>\n",
       "      <td>18</td>\n",
       "      <td>El Alye Cheikh Ahmed Maihmatt</td>\n",
       "      <td>SN</td>\n",
       "      <td>SN09</td>\n",
       "      <td>Vassala</td>\n",
       "      <td>Lycée Vassala</td>\n",
       "      <td>Lycée Vassala</td>\n",
       "      <td>Hod Charghy</td>\n",
       "      <td>BASSEKNOU</td>\n",
       "      <td>18 sept. 1999</td>\n",
       "      <td>ID_18</td>\n",
       "      <td>NaN</td>\n",
       "    </tr>\n",
       "    <tr>\n",
       "      <th>3</th>\n",
       "      <td>19</td>\n",
       "      <td>Haine Mohamed Lemin Telba</td>\n",
       "      <td>SN</td>\n",
       "      <td>SN09</td>\n",
       "      <td>Vassala</td>\n",
       "      <td>Lycée Vassala</td>\n",
       "      <td>Lycée Vassala</td>\n",
       "      <td>Hod Charghy</td>\n",
       "      <td>BASSEKNOU</td>\n",
       "      <td>24 août 1998</td>\n",
       "      <td>ID_19</td>\n",
       "      <td>NaN</td>\n",
       "    </tr>\n",
       "    <tr>\n",
       "      <th>4</th>\n",
       "      <td>20</td>\n",
       "      <td>Aichata Sid'Ahmed Ahmed Ely</td>\n",
       "      <td>SN</td>\n",
       "      <td>SN09</td>\n",
       "      <td>El Megve</td>\n",
       "      <td>Lycée Vassala</td>\n",
       "      <td>Lycée Vassala</td>\n",
       "      <td>Hod Charghy</td>\n",
       "      <td>BASSEKNOU</td>\n",
       "      <td>31-mai-95</td>\n",
       "      <td>ID_20</td>\n",
       "      <td>NaN</td>\n",
       "    </tr>\n",
       "  </tbody>\n",
       "</table>\n",
       "</div>"
      ],
      "text/plain": [
       "   Unnamed: 0                            Nom Serie,x GroupeAnonymat  \\\n",
       "0           6        Mohamed Hama Ahmed Lely      SN           SN09   \n",
       "1          15     Fatimatou Mohamed Sid Abbe      SN           SN09   \n",
       "2          18  El Alye Cheikh Ahmed Maihmatt      SN           SN09   \n",
       "3          19      Haine Mohamed Lemin Telba      SN           SN09   \n",
       "4          20    Aichata Sid'Ahmed Ahmed Ely      SN           SN09   \n",
       "\n",
       "  LieuNaissance         Centre  Etablissement      Willaya  moughataa  \\\n",
       "0       Vassala  Lycée Vassala  Lycée Vassala  Hod Charghy  BASSEKNOU   \n",
       "1       Vassala  Lycée Vassala  Lycée Vassala  Hod Charghy  BASSEKNOU   \n",
       "2       Vassala  Lycée Vassala  Lycée Vassala  Hod Charghy  BASSEKNOU   \n",
       "3       Vassala  Lycée Vassala  Lycée Vassala  Hod Charghy  BASSEKNOU   \n",
       "4      El Megve  Lycée Vassala  Lycée Vassala  Hod Charghy  BASSEKNOU   \n",
       "\n",
       "   DateNaissance     ID  prediction  \n",
       "0  15 يوليو 2001   ID_6         NaN  \n",
       "1   12 août 1999  ID_15         NaN  \n",
       "2  18 sept. 1999  ID_18         NaN  \n",
       "3   24 août 1998  ID_19         NaN  \n",
       "4      31-mai-95  ID_20         NaN  "
      ]
     },
     "execution_count": 41,
     "metadata": {},
     "output_type": "execute_result"
    }
   ],
   "source": [
    "test_data.head()"
   ]
  },
  {
   "cell_type": "code",
   "execution_count": 42,
   "id": "5c884ee5-a679-455d-ba06-8ff580d4c8ee",
   "metadata": {},
   "outputs": [
    {
     "data": {
      "text/html": [
       "<div>\n",
       "<style scoped>\n",
       "    .dataframe tbody tr th:only-of-type {\n",
       "        vertical-align: middle;\n",
       "    }\n",
       "\n",
       "    .dataframe tbody tr th {\n",
       "        vertical-align: top;\n",
       "    }\n",
       "\n",
       "    .dataframe thead th {\n",
       "        text-align: right;\n",
       "    }\n",
       "</style>\n",
       "<table border=\"1\" class=\"dataframe\">\n",
       "  <thead>\n",
       "    <tr style=\"text-align: right;\">\n",
       "      <th></th>\n",
       "      <th>Unnamed: 0</th>\n",
       "      <th>Nom</th>\n",
       "      <th>Serie,x</th>\n",
       "      <th>GroupeAnonymat</th>\n",
       "      <th>LieuNaissance</th>\n",
       "      <th>Centre</th>\n",
       "      <th>Etablissement</th>\n",
       "      <th>Willaya</th>\n",
       "      <th>moughataa</th>\n",
       "      <th>DateNaissance</th>\n",
       "      <th>ID</th>\n",
       "      <th>prediction</th>\n",
       "      <th>annee_naissance</th>\n",
       "    </tr>\n",
       "  </thead>\n",
       "  <tbody>\n",
       "    <tr>\n",
       "      <th>0</th>\n",
       "      <td>6</td>\n",
       "      <td>Mohamed Hama Ahmed Lely</td>\n",
       "      <td>SN</td>\n",
       "      <td>SN09</td>\n",
       "      <td>Vassala</td>\n",
       "      <td>Lycée Vassala</td>\n",
       "      <td>Lycée Vassala</td>\n",
       "      <td>Hod Charghy</td>\n",
       "      <td>BASSEKNOU</td>\n",
       "      <td>1998</td>\n",
       "      <td>ID_6</td>\n",
       "      <td>NaN</td>\n",
       "      <td>1998</td>\n",
       "    </tr>\n",
       "    <tr>\n",
       "      <th>1</th>\n",
       "      <td>15</td>\n",
       "      <td>Fatimatou Mohamed Sid Abbe</td>\n",
       "      <td>SN</td>\n",
       "      <td>SN09</td>\n",
       "      <td>Vassala</td>\n",
       "      <td>Lycée Vassala</td>\n",
       "      <td>Lycée Vassala</td>\n",
       "      <td>Hod Charghy</td>\n",
       "      <td>BASSEKNOU</td>\n",
       "      <td>1991</td>\n",
       "      <td>ID_15</td>\n",
       "      <td>NaN</td>\n",
       "      <td>1991</td>\n",
       "    </tr>\n",
       "    <tr>\n",
       "      <th>2</th>\n",
       "      <td>18</td>\n",
       "      <td>El Alye Cheikh Ahmed Maihmatt</td>\n",
       "      <td>SN</td>\n",
       "      <td>SN09</td>\n",
       "      <td>Vassala</td>\n",
       "      <td>Lycée Vassala</td>\n",
       "      <td>Lycée Vassala</td>\n",
       "      <td>Hod Charghy</td>\n",
       "      <td>BASSEKNOU</td>\n",
       "      <td>1995</td>\n",
       "      <td>ID_18</td>\n",
       "      <td>NaN</td>\n",
       "      <td>1995</td>\n",
       "    </tr>\n",
       "    <tr>\n",
       "      <th>3</th>\n",
       "      <td>19</td>\n",
       "      <td>Haine Mohamed Lemin Telba</td>\n",
       "      <td>SN</td>\n",
       "      <td>SN09</td>\n",
       "      <td>Vassala</td>\n",
       "      <td>Lycée Vassala</td>\n",
       "      <td>Lycée Vassala</td>\n",
       "      <td>Hod Charghy</td>\n",
       "      <td>BASSEKNOU</td>\n",
       "      <td>1999</td>\n",
       "      <td>ID_19</td>\n",
       "      <td>NaN</td>\n",
       "      <td>1999</td>\n",
       "    </tr>\n",
       "    <tr>\n",
       "      <th>4</th>\n",
       "      <td>20</td>\n",
       "      <td>Aichata Sid'Ahmed Ahmed Ely</td>\n",
       "      <td>SN</td>\n",
       "      <td>SN09</td>\n",
       "      <td>El Megve</td>\n",
       "      <td>Lycée Vassala</td>\n",
       "      <td>Lycée Vassala</td>\n",
       "      <td>Hod Charghy</td>\n",
       "      <td>BASSEKNOU</td>\n",
       "      <td>2001</td>\n",
       "      <td>ID_20</td>\n",
       "      <td>NaN</td>\n",
       "      <td>2001</td>\n",
       "    </tr>\n",
       "  </tbody>\n",
       "</table>\n",
       "</div>"
      ],
      "text/plain": [
       "   Unnamed: 0                            Nom Serie,x GroupeAnonymat  \\\n",
       "0           6        Mohamed Hama Ahmed Lely      SN           SN09   \n",
       "1          15     Fatimatou Mohamed Sid Abbe      SN           SN09   \n",
       "2          18  El Alye Cheikh Ahmed Maihmatt      SN           SN09   \n",
       "3          19      Haine Mohamed Lemin Telba      SN           SN09   \n",
       "4          20    Aichata Sid'Ahmed Ahmed Ely      SN           SN09   \n",
       "\n",
       "  LieuNaissance         Centre  Etablissement      Willaya  moughataa  \\\n",
       "0       Vassala  Lycée Vassala  Lycée Vassala  Hod Charghy  BASSEKNOU   \n",
       "1       Vassala  Lycée Vassala  Lycée Vassala  Hod Charghy  BASSEKNOU   \n",
       "2       Vassala  Lycée Vassala  Lycée Vassala  Hod Charghy  BASSEKNOU   \n",
       "3       Vassala  Lycée Vassala  Lycée Vassala  Hod Charghy  BASSEKNOU   \n",
       "4      El Megve  Lycée Vassala  Lycée Vassala  Hod Charghy  BASSEKNOU   \n",
       "\n",
       "  DateNaissance     ID  prediction annee_naissance  \n",
       "0          1998   ID_6         NaN            1998  \n",
       "1          1991  ID_15         NaN            1991  \n",
       "2          1995  ID_18         NaN            1995  \n",
       "3          1999  ID_19         NaN            1999  \n",
       "4          2001  ID_20         NaN            2001  "
      ]
     },
     "execution_count": 42,
     "metadata": {},
     "output_type": "execute_result"
    }
   ],
   "source": [
    "import re\n",
    "pattern = re.compile(r'\\b\\d{4}\\b')\n",
    "test_data['DateNaissance'] = df['DateNaissance'].astype(str)\n",
    "# Appliquer l'expression régulière à chaque valeur de la colonne\n",
    "test_data['annee_naissance'] = test_data['DateNaissance'].apply(lambda x: pattern.findall(x)[0])\n",
    "test_data.head()"
   ]
  },
  {
   "cell_type": "code",
   "execution_count": null,
   "id": "c750d5c4-601e-421f-bc61-3dcefab62188",
   "metadata": {},
   "outputs": [],
   "source": []
  },
  {
   "cell_type": "code",
   "execution_count": 43,
   "id": "ae44dfa6-82bf-435c-bfc5-a7c77025bc5b",
   "metadata": {},
   "outputs": [
    {
     "data": {
      "text/html": [
       "<div>\n",
       "<style scoped>\n",
       "    .dataframe tbody tr th:only-of-type {\n",
       "        vertical-align: middle;\n",
       "    }\n",
       "\n",
       "    .dataframe tbody tr th {\n",
       "        vertical-align: top;\n",
       "    }\n",
       "\n",
       "    .dataframe thead th {\n",
       "        text-align: right;\n",
       "    }\n",
       "</style>\n",
       "<table border=\"1\" class=\"dataframe\">\n",
       "  <thead>\n",
       "    <tr style=\"text-align: right;\">\n",
       "      <th></th>\n",
       "      <th>Unnamed: 0</th>\n",
       "      <th>Nom</th>\n",
       "      <th>Serie,x</th>\n",
       "      <th>GroupeAnonymat</th>\n",
       "      <th>LieuNaissance</th>\n",
       "      <th>Centre</th>\n",
       "      <th>Etablissement</th>\n",
       "      <th>moyeneGeneral</th>\n",
       "      <th>Decision</th>\n",
       "      <th>Note1</th>\n",
       "      <th>...</th>\n",
       "      <th>Note7</th>\n",
       "      <th>Note8</th>\n",
       "      <th>Willaya</th>\n",
       "      <th>moughataa</th>\n",
       "      <th>DateNaissance</th>\n",
       "      <th>ID</th>\n",
       "      <th>annee_naissance</th>\n",
       "      <th>age</th>\n",
       "      <th>prenom</th>\n",
       "      <th>sex</th>\n",
       "    </tr>\n",
       "  </thead>\n",
       "  <tbody>\n",
       "    <tr>\n",
       "      <th>0</th>\n",
       "      <td>27634</td>\n",
       "      <td>El Ide Brahim M'Hadi</td>\n",
       "      <td>SN</td>\n",
       "      <td>SN09</td>\n",
       "      <td>Bathet meit</td>\n",
       "      <td>Lycée Jedida</td>\n",
       "      <td>Lycée Jedida</td>\n",
       "      <td>4.601562</td>\n",
       "      <td>Ajourné</td>\n",
       "      <td>1.625</td>\n",
       "      <td>...</td>\n",
       "      <td>7.50</td>\n",
       "      <td>18.5</td>\n",
       "      <td>Nouakchott 2 (Ouest)</td>\n",
       "      <td>KSAR</td>\n",
       "      <td>1998</td>\n",
       "      <td>ID_27634</td>\n",
       "      <td>1998</td>\n",
       "      <td>24</td>\n",
       "      <td>El</td>\n",
       "      <td>M</td>\n",
       "    </tr>\n",
       "    <tr>\n",
       "      <th>1</th>\n",
       "      <td>36311</td>\n",
       "      <td>Mariem Yedaly Afane</td>\n",
       "      <td>LO</td>\n",
       "      <td>LO1</td>\n",
       "      <td>Beir Taouress</td>\n",
       "      <td>Lycée Arafat 2 (A)</td>\n",
       "      <td>Lycée Arafat 2</td>\n",
       "      <td>7.625000</td>\n",
       "      <td>Ajourné</td>\n",
       "      <td>13.000</td>\n",
       "      <td>...</td>\n",
       "      <td>0.75</td>\n",
       "      <td>-1.0</td>\n",
       "      <td>Nouakchott 3 (Sud)</td>\n",
       "      <td>ARAFAT</td>\n",
       "      <td>1991</td>\n",
       "      <td>ID_36311</td>\n",
       "      <td>1991</td>\n",
       "      <td>31</td>\n",
       "      <td>Mariem</td>\n",
       "      <td>F</td>\n",
       "    </tr>\n",
       "    <tr>\n",
       "      <th>2</th>\n",
       "      <td>21059</td>\n",
       "      <td>Aiche Jiyid Jiyid</td>\n",
       "      <td>LM</td>\n",
       "      <td>LM3</td>\n",
       "      <td>Akjoujt</td>\n",
       "      <td>Lycée Akjoujt</td>\n",
       "      <td>Lycée Akjoujt</td>\n",
       "      <td>6.894531</td>\n",
       "      <td>Ajourné</td>\n",
       "      <td>7.000</td>\n",
       "      <td>...</td>\n",
       "      <td>10.00</td>\n",
       "      <td>17.0</td>\n",
       "      <td>Inchiri</td>\n",
       "      <td>AKJOUJT</td>\n",
       "      <td>1995</td>\n",
       "      <td>ID_21059</td>\n",
       "      <td>1995</td>\n",
       "      <td>27</td>\n",
       "      <td>Aiche</td>\n",
       "      <td>F</td>\n",
       "    </tr>\n",
       "    <tr>\n",
       "      <th>3</th>\n",
       "      <td>24532</td>\n",
       "      <td>Ahmed Abd El Ghader Meissa</td>\n",
       "      <td>SN</td>\n",
       "      <td>SN06</td>\n",
       "      <td>Chelkhet Tiyab</td>\n",
       "      <td>Lycée Toujounine 1</td>\n",
       "      <td>Lycée Toujounine 1</td>\n",
       "      <td>4.859375</td>\n",
       "      <td>Ajourné</td>\n",
       "      <td>1.750</td>\n",
       "      <td>...</td>\n",
       "      <td>7.50</td>\n",
       "      <td>17.0</td>\n",
       "      <td>Nouakchott 1 (Nord)</td>\n",
       "      <td>TOUJOUNINE</td>\n",
       "      <td>1999</td>\n",
       "      <td>ID_24532</td>\n",
       "      <td>1999</td>\n",
       "      <td>23</td>\n",
       "      <td>Ahmed</td>\n",
       "      <td>M</td>\n",
       "    </tr>\n",
       "    <tr>\n",
       "      <th>4</th>\n",
       "      <td>17861</td>\n",
       "      <td>Mariam Abdoulaye Ba</td>\n",
       "      <td>SN</td>\n",
       "      <td>SN03</td>\n",
       "      <td>Aere M'Bar</td>\n",
       "      <td>Lycée Nouadhibou 2</td>\n",
       "      <td>Lycée Wava Nouadhibou</td>\n",
       "      <td>3.548387</td>\n",
       "      <td>Ajourné</td>\n",
       "      <td>4.500</td>\n",
       "      <td>...</td>\n",
       "      <td>2.00</td>\n",
       "      <td>-1.0</td>\n",
       "      <td>Dakhlet NDB</td>\n",
       "      <td>NOUADHIBOU</td>\n",
       "      <td>2001</td>\n",
       "      <td>ID_17861</td>\n",
       "      <td>2001</td>\n",
       "      <td>21</td>\n",
       "      <td>Mariam</td>\n",
       "      <td>F</td>\n",
       "    </tr>\n",
       "  </tbody>\n",
       "</table>\n",
       "<p>5 rows × 25 columns</p>\n",
       "</div>"
      ],
      "text/plain": [
       "   Unnamed: 0                         Nom Serie,x GroupeAnonymat  \\\n",
       "0       27634        El Ide Brahim M'Hadi      SN           SN09   \n",
       "1       36311         Mariem Yedaly Afane      LO            LO1   \n",
       "2       21059           Aiche Jiyid Jiyid      LM            LM3   \n",
       "3       24532  Ahmed Abd El Ghader Meissa      SN           SN06   \n",
       "4       17861         Mariam Abdoulaye Ba      SN           SN03   \n",
       "\n",
       "    LieuNaissance              Centre          Etablissement  moyeneGeneral  \\\n",
       "0     Bathet meit        Lycée Jedida           Lycée Jedida       4.601562   \n",
       "1   Beir Taouress  Lycée Arafat 2 (A)         Lycée Arafat 2       7.625000   \n",
       "2         Akjoujt       Lycée Akjoujt          Lycée Akjoujt       6.894531   \n",
       "3  Chelkhet Tiyab  Lycée Toujounine 1     Lycée Toujounine 1       4.859375   \n",
       "4      Aere M'Bar  Lycée Nouadhibou 2  Lycée Wava Nouadhibou       3.548387   \n",
       "\n",
       "  Decision   Note1  ...  Note7  Note8               Willaya   moughataa  \\\n",
       "0  Ajourné   1.625  ...   7.50   18.5  Nouakchott 2 (Ouest)        KSAR   \n",
       "1  Ajourné  13.000  ...   0.75   -1.0    Nouakchott 3 (Sud)      ARAFAT   \n",
       "2  Ajourné   7.000  ...  10.00   17.0               Inchiri     AKJOUJT   \n",
       "3  Ajourné   1.750  ...   7.50   17.0   Nouakchott 1 (Nord)  TOUJOUNINE   \n",
       "4  Ajourné   4.500  ...   2.00   -1.0           Dakhlet NDB  NOUADHIBOU   \n",
       "\n",
       "   DateNaissance        ID  annee_naissance age  prenom sex  \n",
       "0           1998  ID_27634             1998  24      El   M  \n",
       "1           1991  ID_36311             1991  31  Mariem   F  \n",
       "2           1995  ID_21059             1995  27   Aiche   F  \n",
       "3           1999  ID_24532             1999  23   Ahmed   M  \n",
       "4           2001  ID_17861             2001  21  Mariam   F  \n",
       "\n",
       "[5 rows x 25 columns]"
      ]
     },
     "execution_count": 43,
     "metadata": {},
     "output_type": "execute_result"
    }
   ],
   "source": [
    "df.head()"
   ]
  },
  {
   "cell_type": "code",
   "execution_count": 44,
   "id": "2d10240d-9ed0-4de3-8aa7-a1eab4a652c6",
   "metadata": {},
   "outputs": [],
   "source": [
    "import warnings\n",
    "warnings.filterwarnings('ignore')"
   ]
  },
  {
   "cell_type": "code",
   "execution_count": 45,
   "id": "7ad1a393-c811-492c-8ffd-504950b4435d",
   "metadata": {},
   "outputs": [
    {
     "data": {
      "text/plain": [
       "(15930, 13)"
      ]
     },
     "execution_count": 45,
     "metadata": {},
     "output_type": "execute_result"
    }
   ],
   "source": [
    "test_data.shape"
   ]
  },
  {
   "cell_type": "code",
   "execution_count": 46,
   "id": "17c1f909-1e33-40ad-a2b7-3ed70ab5d779",
   "metadata": {},
   "outputs": [],
   "source": [
    "test_data['prenom'] = test_data['Nom'].str.split(' ', n=1, expand=True)[0]"
   ]
  },
  {
   "cell_type": "code",
   "execution_count": 47,
   "id": "ca320ca6-9822-4c53-a11b-2dc4b3d64db0",
   "metadata": {},
   "outputs": [
    {
     "data": {
      "text/plain": [
       "0          mohamed\n",
       "1        fatimatou\n",
       "2               el\n",
       "3            haine\n",
       "4          aichata\n",
       "           ...    \n",
       "15925     djeinaba\n",
       "15926       magatt\n",
       "15927     zeinebou\n",
       "15928    hajeratou\n",
       "15929      dienaba\n",
       "Name: prenom, Length: 15930, dtype: object"
      ]
     },
     "execution_count": 47,
     "metadata": {},
     "output_type": "execute_result"
    }
   ],
   "source": [
    "test_data['Nom']=test_data['Nom'].str.split('\\n', n=1, expand=True)\n",
    "# Convertir les prénoms et noms de famille en minuscules\n",
    "test_data['Nom'].str.lower()\n",
    "test_data['prenom'].str.lower()"
   ]
  },
  {
   "cell_type": "code",
   "execution_count": 48,
   "id": "182606dd-35e3-4566-aa59-fb0431a0e627",
   "metadata": {},
   "outputs": [],
   "source": [
    "T=[]\n",
    "for a in test_data['prenom']:\n",
    "    L=[]\n",
    "    L.append(a)\n",
    "    my_name=L\n",
    "    vect = cv.transform(my_name).toarray()\n",
    "    l=clf.predict(vect)[0]\n",
    "    T.append(l)"
   ]
  },
  {
   "cell_type": "code",
   "execution_count": 49,
   "id": "713d1643-28eb-4834-b692-2046a5c78bef",
   "metadata": {},
   "outputs": [],
   "source": [
    "for a in range(len(T)):\n",
    "    if T[a]==0:\n",
    "        T[a]=\"F\"\n",
    "    else:\n",
    "        T[a]=\"M\"\n",
    "    "
   ]
  },
  {
   "cell_type": "code",
   "execution_count": 50,
   "id": "6b462fbd-d210-4e94-be7d-58b1799eba24",
   "metadata": {},
   "outputs": [],
   "source": [
    "test_data['sex']=T"
   ]
  },
  {
   "cell_type": "code",
   "execution_count": 51,
   "id": "31de8d29-287a-4234-a7d9-11ebfcd490a2",
   "metadata": {},
   "outputs": [
    {
     "data": {
      "text/html": [
       "<div>\n",
       "<style scoped>\n",
       "    .dataframe tbody tr th:only-of-type {\n",
       "        vertical-align: middle;\n",
       "    }\n",
       "\n",
       "    .dataframe tbody tr th {\n",
       "        vertical-align: top;\n",
       "    }\n",
       "\n",
       "    .dataframe thead th {\n",
       "        text-align: right;\n",
       "    }\n",
       "</style>\n",
       "<table border=\"1\" class=\"dataframe\">\n",
       "  <thead>\n",
       "    <tr style=\"text-align: right;\">\n",
       "      <th></th>\n",
       "      <th>Unnamed: 0</th>\n",
       "      <th>Nom</th>\n",
       "      <th>Serie,x</th>\n",
       "      <th>GroupeAnonymat</th>\n",
       "      <th>LieuNaissance</th>\n",
       "      <th>Centre</th>\n",
       "      <th>Etablissement</th>\n",
       "      <th>Willaya</th>\n",
       "      <th>moughataa</th>\n",
       "      <th>DateNaissance</th>\n",
       "      <th>ID</th>\n",
       "      <th>prediction</th>\n",
       "      <th>annee_naissance</th>\n",
       "      <th>prenom</th>\n",
       "      <th>sex</th>\n",
       "    </tr>\n",
       "  </thead>\n",
       "  <tbody>\n",
       "    <tr>\n",
       "      <th>0</th>\n",
       "      <td>6</td>\n",
       "      <td>Mohamed Hama Ahmed Lely</td>\n",
       "      <td>SN</td>\n",
       "      <td>SN09</td>\n",
       "      <td>Vassala</td>\n",
       "      <td>Lycée Vassala</td>\n",
       "      <td>Lycée Vassala</td>\n",
       "      <td>Hod Charghy</td>\n",
       "      <td>BASSEKNOU</td>\n",
       "      <td>1998</td>\n",
       "      <td>ID_6</td>\n",
       "      <td>NaN</td>\n",
       "      <td>1998</td>\n",
       "      <td>Mohamed</td>\n",
       "      <td>M</td>\n",
       "    </tr>\n",
       "    <tr>\n",
       "      <th>1</th>\n",
       "      <td>15</td>\n",
       "      <td>Fatimatou Mohamed Sid Abbe</td>\n",
       "      <td>SN</td>\n",
       "      <td>SN09</td>\n",
       "      <td>Vassala</td>\n",
       "      <td>Lycée Vassala</td>\n",
       "      <td>Lycée Vassala</td>\n",
       "      <td>Hod Charghy</td>\n",
       "      <td>BASSEKNOU</td>\n",
       "      <td>1991</td>\n",
       "      <td>ID_15</td>\n",
       "      <td>NaN</td>\n",
       "      <td>1991</td>\n",
       "      <td>Fatimatou</td>\n",
       "      <td>F</td>\n",
       "    </tr>\n",
       "    <tr>\n",
       "      <th>2</th>\n",
       "      <td>18</td>\n",
       "      <td>El Alye Cheikh Ahmed Maihmatt</td>\n",
       "      <td>SN</td>\n",
       "      <td>SN09</td>\n",
       "      <td>Vassala</td>\n",
       "      <td>Lycée Vassala</td>\n",
       "      <td>Lycée Vassala</td>\n",
       "      <td>Hod Charghy</td>\n",
       "      <td>BASSEKNOU</td>\n",
       "      <td>1995</td>\n",
       "      <td>ID_18</td>\n",
       "      <td>NaN</td>\n",
       "      <td>1995</td>\n",
       "      <td>El</td>\n",
       "      <td>M</td>\n",
       "    </tr>\n",
       "    <tr>\n",
       "      <th>3</th>\n",
       "      <td>19</td>\n",
       "      <td>Haine Mohamed Lemin Telba</td>\n",
       "      <td>SN</td>\n",
       "      <td>SN09</td>\n",
       "      <td>Vassala</td>\n",
       "      <td>Lycée Vassala</td>\n",
       "      <td>Lycée Vassala</td>\n",
       "      <td>Hod Charghy</td>\n",
       "      <td>BASSEKNOU</td>\n",
       "      <td>1999</td>\n",
       "      <td>ID_19</td>\n",
       "      <td>NaN</td>\n",
       "      <td>1999</td>\n",
       "      <td>Haine</td>\n",
       "      <td>F</td>\n",
       "    </tr>\n",
       "    <tr>\n",
       "      <th>4</th>\n",
       "      <td>20</td>\n",
       "      <td>Aichata Sid'Ahmed Ahmed Ely</td>\n",
       "      <td>SN</td>\n",
       "      <td>SN09</td>\n",
       "      <td>El Megve</td>\n",
       "      <td>Lycée Vassala</td>\n",
       "      <td>Lycée Vassala</td>\n",
       "      <td>Hod Charghy</td>\n",
       "      <td>BASSEKNOU</td>\n",
       "      <td>2001</td>\n",
       "      <td>ID_20</td>\n",
       "      <td>NaN</td>\n",
       "      <td>2001</td>\n",
       "      <td>Aichata</td>\n",
       "      <td>F</td>\n",
       "    </tr>\n",
       "  </tbody>\n",
       "</table>\n",
       "</div>"
      ],
      "text/plain": [
       "   Unnamed: 0                            Nom Serie,x GroupeAnonymat  \\\n",
       "0           6        Mohamed Hama Ahmed Lely      SN           SN09   \n",
       "1          15     Fatimatou Mohamed Sid Abbe      SN           SN09   \n",
       "2          18  El Alye Cheikh Ahmed Maihmatt      SN           SN09   \n",
       "3          19      Haine Mohamed Lemin Telba      SN           SN09   \n",
       "4          20    Aichata Sid'Ahmed Ahmed Ely      SN           SN09   \n",
       "\n",
       "  LieuNaissance         Centre  Etablissement      Willaya  moughataa  \\\n",
       "0       Vassala  Lycée Vassala  Lycée Vassala  Hod Charghy  BASSEKNOU   \n",
       "1       Vassala  Lycée Vassala  Lycée Vassala  Hod Charghy  BASSEKNOU   \n",
       "2       Vassala  Lycée Vassala  Lycée Vassala  Hod Charghy  BASSEKNOU   \n",
       "3       Vassala  Lycée Vassala  Lycée Vassala  Hod Charghy  BASSEKNOU   \n",
       "4      El Megve  Lycée Vassala  Lycée Vassala  Hod Charghy  BASSEKNOU   \n",
       "\n",
       "  DateNaissance     ID  prediction annee_naissance     prenom sex  \n",
       "0          1998   ID_6         NaN            1998    Mohamed   M  \n",
       "1          1991  ID_15         NaN            1991  Fatimatou   F  \n",
       "2          1995  ID_18         NaN            1995         El   M  \n",
       "3          1999  ID_19         NaN            1999      Haine   F  \n",
       "4          2001  ID_20         NaN            2001    Aichata   F  "
      ]
     },
     "execution_count": 51,
     "metadata": {},
     "output_type": "execute_result"
    }
   ],
   "source": [
    "test_data.head()"
   ]
  },
  {
   "cell_type": "code",
   "execution_count": 52,
   "id": "f67bab2b-eb83-49d5-84eb-8370285ab04b",
   "metadata": {},
   "outputs": [
    {
     "data": {
      "text/plain": [
       "0    1998\n",
       "1    1991\n",
       "2    1995\n",
       "3    1999\n",
       "4    2001\n",
       "Name: DateNaissance, dtype: object"
      ]
     },
     "execution_count": 52,
     "metadata": {},
     "output_type": "execute_result"
    }
   ],
   "source": [
    "test_data['DateNaissance'].head()"
   ]
  },
  {
   "cell_type": "code",
   "execution_count": 53,
   "id": "3bfd08de-f207-40fe-aec1-04dfb3a5c396",
   "metadata": {},
   "outputs": [],
   "source": [
    "ar_to_fr = {\n",
    "    'يناير': 'Janvier',\n",
    "    'فبراير': 'Février',\n",
    "    'مارس': 'Mars',\n",
    "    'ابريل': 'Avril',\n",
    "    'مايو': 'Mai',\n",
    "    'يونيو': 'Juin',\n",
    "    'يوليو': 'Juillet',\n",
    "    'اغسطس': 'Août',\n",
    "    'سبتمبر': 'Septembre',\n",
    "    'أكتوبر': 'Octobre',\n",
    "    'نوفمبر': 'Novembre',\n",
    "    'ديسمبر': 'Décembre'\n",
    "}\n",
    "\n",
    "def convert_month(month):\n",
    "    for ar, fr in ar_to_fr.items():\n",
    "        if ar in month:\n",
    "            return month.replace(ar, fr)\n",
    "    return month\n"
   ]
  },
  {
   "cell_type": "code",
   "execution_count": 54,
   "id": "2a155457-b1af-4d86-9f09-ff4c29fd216e",
   "metadata": {},
   "outputs": [],
   "source": [
    "test_data['DateNaissance'] = test_data['DateNaissance'].apply(convert_month)"
   ]
  },
  {
   "cell_type": "code",
   "execution_count": 55,
   "id": "196f79a0-de40-486c-8e2b-19500fe7711f",
   "metadata": {},
   "outputs": [
    {
     "data": {
      "text/plain": [
       "0    1998\n",
       "1    1991\n",
       "2    1995\n",
       "3    1999\n",
       "4    2001\n",
       "5    2000\n",
       "6    2000\n",
       "7    2002\n",
       "8    2000\n",
       "9    2002\n",
       "Name: DateNaissance, dtype: object"
      ]
     },
     "execution_count": 55,
     "metadata": {},
     "output_type": "execute_result"
    }
   ],
   "source": [
    "test_data['DateNaissance'].head(10)"
   ]
  },
  {
   "cell_type": "code",
   "execution_count": 56,
   "id": "94aa065f-2a25-4189-a992-43ef1cc314db",
   "metadata": {},
   "outputs": [],
   "source": [
    "# Extraire l'année à partir de la colonne DateNaissance\n",
    "test_data['annee_naissance'] = test_data['DateNaissance'].str.extract('(\\d{4})')"
   ]
  },
  {
   "cell_type": "code",
   "execution_count": 57,
   "id": "0c410de2-0514-4682-9839-1e79b766a437",
   "metadata": {},
   "outputs": [
    {
     "data": {
      "text/plain": [
       "0    1998\n",
       "1    1991\n",
       "2    1995\n",
       "3    1999\n",
       "4    2001\n",
       "Name: annee_naissance, dtype: object"
      ]
     },
     "execution_count": 57,
     "metadata": {},
     "output_type": "execute_result"
    }
   ],
   "source": [
    "test_data['annee_naissance'].head()"
   ]
  },
  {
   "cell_type": "code",
   "execution_count": 58,
   "id": "e14e247d-6166-4a3f-92f5-7e352245bb4d",
   "metadata": {},
   "outputs": [],
   "source": [
    "# calculate the mean of known birth years\n",
    "mean_birth_year = test_data['annee_naissance'].dropna().astype(int).mean()\n",
    "\n",
    "# replace NaN values with the mean\n",
    "test_data['annee_naissance'].fillna(mean_birth_year, inplace=True)\n"
   ]
  },
  {
   "cell_type": "code",
   "execution_count": 59,
   "id": "3ca50090-68be-45e5-b1cc-b7c9be6aef52",
   "metadata": {},
   "outputs": [
    {
     "data": {
      "text/plain": [
       "0    1998\n",
       "1    1991\n",
       "2    1995\n",
       "3    1999\n",
       "4    2001\n",
       "Name: annee_naissance, dtype: object"
      ]
     },
     "execution_count": 59,
     "metadata": {},
     "output_type": "execute_result"
    }
   ],
   "source": [
    "test_data['annee_naissance'].head()"
   ]
  },
  {
   "cell_type": "code",
   "execution_count": 60,
   "id": "edf98932-2717-442f-99f2-b1a972b8d2f4",
   "metadata": {},
   "outputs": [],
   "source": [
    "test_data['annee_naissance'] = test_data['annee_naissance'].astype(int)"
   ]
  },
  {
   "cell_type": "code",
   "execution_count": 61,
   "id": "f128fd2f-1013-4135-85b6-edc3b4f86562",
   "metadata": {},
   "outputs": [],
   "source": [
    "test_data[\"annee_naissance\"] = test_data[\"annee_naissance\"].astype(int)\n",
    "annee_actuelle = 2022\n",
    "test_data['age'] = annee_actuelle - test_data['annee_naissance']"
   ]
  },
  {
   "cell_type": "code",
   "execution_count": 62,
   "id": "bcf86e22-b0ae-4bba-9f4c-a0a50074f50f",
   "metadata": {},
   "outputs": [
    {
     "data": {
      "text/plain": [
       "0    24\n",
       "1    31\n",
       "2    27\n",
       "3    23\n",
       "4    21\n",
       "Name: age, dtype: int32"
      ]
     },
     "execution_count": 62,
     "metadata": {},
     "output_type": "execute_result"
    }
   ],
   "source": [
    "test_data['age'].head()"
   ]
  },
  {
   "cell_type": "code",
   "execution_count": 84,
   "id": "6818d2fe-20e4-4dac-87a3-bbe1140a285e",
   "metadata": {},
   "outputs": [
    {
     "name": "stdout",
     "output_type": "stream",
     "text": [
      "Accuracy: 0.9866290018832392\n",
      "Accuracy: 0.9863151286880101\n"
     ]
    }
   ],
   "source": [
    "\n",
    "# Sélection des caractéristiques (features) et la variable cible (target)\n",
    "categorical_features = ['Etablissement', 'Serie,x', 'moughataa', 'Centre', 'Willaya', 'DateNaissance', 'sex']\n",
    "target = 'Decision'\n",
    "\n",
    "# Concaténation des ensembles d'entraînement et de test\n",
    "all_data = pd.concat([df[categorical_features], test_data[categorical_features]], axis=0)\n",
    "\n",
    "# Prétraitement des variables catégorielles\n",
    "cat_transformer = OneHotEncoder(handle_unknown='ignore')\n",
    "cat_transformer.fit(all_data)\n",
    "\n",
    "# Séparation des données en ensembles d'entraînement et de test encodés\n",
    "X_train_encoded = cat_transformer.transform(df[categorical_features])\n",
    "X_test_encoded = cat_transformer.transform(test_data[categorical_features])\n",
    "y_train = df[target]\n",
    "y_test = test_data[target]\n",
    "\n",
    "from sklearn.ensemble import GradientBoostingClassifier\n",
    "from sklearn.metrics import accuracy_score\n",
    "\n",
    "# Train a gradient boosting model on the preprocessed training data\n",
    "model = GradientBoostingClassifier()\n",
    "model.fit(X_train_encoded, y_train)\n",
    "\n",
    "# Make predictions on the preprocessed test data\n",
    "y_pred = model.predict(X_test_encoded)\n",
    "\n",
    "# Evaluate the performance of the model using accuracy score\n",
    "accuracy = accuracy_score(y_test, y_pred)\n",
    "print(\"Accuracy:\", accuracy)\n",
    "\n",
    "from sklearn.model_selection import GridSearchCV\n",
    "\n",
    "# Define the gradient boosting model\n",
    "model = GradientBoostingClassifier()\n",
    "\n",
    "# Define the hyperparameters to search\n",
    "param_grid = {'n_estimators': [50, 100, 200], 'max_depth': [3, 5, 7], 'learning_rate': [0.01, 0.1, 1.0]}\n",
    "\n",
    "# Define the grid search object\n",
    "grid_search = GridSearchCV(model, param_grid, cv=5)\n",
    "\n",
    "# Fit the grid search object on the preprocessed training data\n",
    "grid_search.fit(X_train_encoded, y_train)\n",
    "\n",
    "# Make predictions on the preprocessed test data using the best model from the grid search\n",
    "y_pred = grid_search.predict(X_test_encoded)\n",
    "\n",
    "# Evaluate the performance of the model using accuracy score\n",
    "accuracy = accuracy_score(y_test, y_pred)\n",
    "print(\"Accuracy:\", accuracy)\n"
   ]
  },
  {
   "cell_type": "code",
   "execution_count": null,
   "id": "7fd65757-4ad6-4565-8a74-26a8611379ea",
   "metadata": {},
   "outputs": [],
   "source": [
    "# Faire la prédiction sur le nouveau jeu de données\n",
    "y_pred = model.predict(X_test_encoded)\n",
    "\n",
    "# Ajouter la prédiction en tant que colonne \"Decision\" dans le nouveau jeu de données\n",
    "test_data['Decision'] = y_pred\n",
    "\n",
    "# Ajouter la probabilité que la décision soit \"Admis\" dans le nouveau jeu de données\n",
    "y_prob = model.predict_proba(X_test_encoded)\n",
    "test_data['predicted'] = y_prob[:,1]"
   ]
  },
  {
   "cell_type": "code",
   "execution_count": null,
   "id": "0e0343cc-f9e3-4e2f-9d41-52c5c95d7363",
   "metadata": {},
   "outputs": [],
   "source": [
    "f=pd.read_csv(\"C:/Users/hp/Downloads/submission_template (4).csv\")"
   ]
  },
  {
   "cell_type": "code",
   "execution_count": null,
   "id": "b0f4e579-586f-4e2f-8ab9-1905c0034ac6",
   "metadata": {},
   "outputs": [],
   "source": [
    "df_submit =pd.DataFrame({\"id\":f[\"Id\"], \"predicted\":test_data[\"prediction\"]})"
   ]
  },
  {
   "cell_type": "code",
   "execution_count": null,
   "id": "84b9d462-25bf-4b34-91e6-b58129f508a1",
   "metadata": {},
   "outputs": [],
   "source": [
    "# Sauvegarde du nouveau jeu de données avec les prédictions et les probabilités\n",
    "df_submit.to_csv(\"C:/Users/hp/Downloads/submission_template (4).csv\", index=False)\n"
   ]
  },
  {
   "cell_type": "code",
   "execution_count": null,
   "id": "60b31a4f-41b1-42eb-ae06-119e0da2ccb3",
   "metadata": {},
   "outputs": [],
   "source": []
  }
 ],
 "metadata": {
  "kernelspec": {
   "display_name": "Python 3 (ipykernel)",
   "language": "python",
   "name": "python3"
  },
  "language_info": {
   "codemirror_mode": {
    "name": "ipython",
    "version": 3
   },
   "file_extension": ".py",
   "mimetype": "text/x-python",
   "name": "python",
   "nbconvert_exporter": "python",
   "pygments_lexer": "ipython3",
   "version": "3.8.13"
  }
 },
 "nbformat": 4,
 "nbformat_minor": 5
}
